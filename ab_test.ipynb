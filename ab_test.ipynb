{
 "cells": [
  {
   "cell_type": "code",
   "execution_count": 1,
   "id": "4637dd9e",
   "metadata": {},
   "outputs": [],
   "source": [
    "import pandas as pd\n",
    "import numpy as np\n",
    "import seaborn as sns\n",
    "from matplotlib import pyplot as plt\n",
    "import requests\n",
    "from urllib.parse import urlencode\n",
    "import ssl\n",
    "import pandahouse as ph\n",
    "from scipy import stats\n",
    "import math\n",
    "\n",
    "pallet_name = \"viridis_r\"\n",
    "my_pallet = sns.color_palette(pallet_name)\n",
    "sns.set_palette(pallet_name, n_colors=7)"
   ]
  },
  {
   "cell_type": "code",
   "execution_count": 2,
   "id": "7911f548",
   "metadata": {},
   "outputs": [],
   "source": [
    "ssl._create_default_https_context = ssl._create_unverified_context\n",
    "base_url = 'https://cloud-api.yandex.net/v1/disk/public/resources/download?'\n",
    "\n",
    "\n",
    "def get_download_url(public_key):\n",
    "    final_url = base_url + urlencode(dict(public_key=public_key))\n",
    "    response = requests.get(final_url)\n",
    "    download_url = response.json()['href']\n",
    "    return download_url"
   ]
  },
  {
   "cell_type": "code",
   "execution_count": 3,
   "id": "01a3df19",
   "metadata": {},
   "outputs": [],
   "source": [
    "# ссылки на используемые документы\n",
    "links = {\n",
    "    'groups': 'https://disk.yandex.ru/d/UhyYx41rTt3clQ',\n",
    "    'groups_add': 'https://disk.yandex.ru/d/5Kxrz02m3IBUwQ',\n",
    "    'active_studs': 'https://disk.yandex.ru/d/Tbs44Bm6H_FwFQ', \n",
    "    'checks': 'https://disk.yandex.ru/d/pH1q-VqcxXjsVA'\n",
    "}"
   ]
  },
  {
   "cell_type": "code",
   "execution_count": 4,
   "id": "71ce2124",
   "metadata": {},
   "outputs": [],
   "source": [
    "# Соединение с БД\n",
    "connection = {\n",
    "    'database': 'default',\n",
    "    'host': 'https://clickhouse.lab.karpov.courses',\n",
    "    'user': 'student', \n",
    "    'password': \n",
    "}"
   ]
  },
  {
   "cell_type": "markdown",
   "id": "45488fe6",
   "metadata": {},
   "source": [
    "# Задание 1. A/B–тестирование\n",
    "\n",
    "Одной из основных задач аналитика в нашей команде является корректное проведение экспериментов. Для этого мы применяем метод A/B–тестирования. В ходе тестирования **одной гипотезы** \n",
    "* **test grp** (B) была предложена новая механика оплаты услуг на сайте\n",
    "* **control grp** (A) оставалась базовая механика.\n",
    "\n",
    "Необходимо проанализировать итоги эксперимента и сделать вывод, стоит ли запускать новую механику оплаты на всех пользователей."
   ]
  },
  {
   "cell_type": "markdown",
   "id": "3aa892ce",
   "metadata": {},
   "source": [
    "## Выбор метрик\n",
    "        \n",
    "Процесс оплаты происходит в тот момент, когда корзина пользователя уже сформирована. Из чего можно сделать **предположение**, что при проведении тестирования новой механики оплаты мы ожидаем, что это:\n",
    "\n",
    "* не повлият на ARPPU (только если были внесены какие-то специфичные изменения, предлагающие при офомлении добавить сопутствующий товар)\n",
    "    \n",
    "* упростит процесс оплаты, в результате чего увеличится конверсия в покупку.     \n",
    "\n",
    "Таким образом, при проведении A/B теста будем следить за метриками:\n",
    "* **СR в покупку** - целевая метрика\n",
    "* **ARPAU** и **ARPU** - *Guardrail* метрики, т.к. *CR в покупку* влияет на них\n",
    "* **ARPPU** посомтрим, чтобы не отличалась между группами"
   ]
  },
  {
   "cell_type": "markdown",
   "id": "c75cb9da",
   "metadata": {},
   "source": [
    "## Исследование данных"
   ]
  },
  {
   "cell_type": "markdown",
   "id": "aa868440",
   "metadata": {},
   "source": [
    "### groups.csv\n",
    "\n",
    "Файл с информацией о принадлежности пользователя к контрольной или экспериментальной группе (А – контроль, B – целевая группа) \n",
    "\n",
    "* **id** - id студента\n",
    "* **grp** - группа A/B"
   ]
  },
  {
   "cell_type": "code",
   "execution_count": 5,
   "id": "35d85660",
   "metadata": {
    "scrolled": false
   },
   "outputs": [
    {
     "name": "stdout",
     "output_type": "stream",
     "text": [
      "74484 2\n"
     ]
    },
    {
     "data": {
      "text/html": [
       "<div>\n",
       "<style scoped>\n",
       "    .dataframe tbody tr th:only-of-type {\n",
       "        vertical-align: middle;\n",
       "    }\n",
       "\n",
       "    .dataframe tbody tr th {\n",
       "        vertical-align: top;\n",
       "    }\n",
       "\n",
       "    .dataframe thead th {\n",
       "        text-align: right;\n",
       "    }\n",
       "</style>\n",
       "<table border=\"1\" class=\"dataframe\">\n",
       "  <thead>\n",
       "    <tr style=\"text-align: right;\">\n",
       "      <th></th>\n",
       "      <th>id</th>\n",
       "      <th>grp</th>\n",
       "    </tr>\n",
       "  </thead>\n",
       "  <tbody>\n",
       "    <tr>\n",
       "      <th>0</th>\n",
       "      <td>1489</td>\n",
       "      <td>B</td>\n",
       "    </tr>\n",
       "    <tr>\n",
       "      <th>1</th>\n",
       "      <td>1627</td>\n",
       "      <td>A</td>\n",
       "    </tr>\n",
       "    <tr>\n",
       "      <th>2</th>\n",
       "      <td>1768</td>\n",
       "      <td>B</td>\n",
       "    </tr>\n",
       "    <tr>\n",
       "      <th>3</th>\n",
       "      <td>1783</td>\n",
       "      <td>B</td>\n",
       "    </tr>\n",
       "    <tr>\n",
       "      <th>4</th>\n",
       "      <td>1794</td>\n",
       "      <td>A</td>\n",
       "    </tr>\n",
       "  </tbody>\n",
       "</table>\n",
       "</div>"
      ],
      "text/plain": [
       "     id grp\n",
       "0  1489   B\n",
       "1  1627   A\n",
       "2  1768   B\n",
       "3  1783   B\n",
       "4  1794   A"
      ]
     },
     "execution_count": 5,
     "metadata": {},
     "output_type": "execute_result"
    }
   ],
   "source": [
    "groups = pd.read_csv(get_download_url(links['groups']), sep=';')\n",
    "print(*groups.shape)\n",
    "groups.head(5)"
   ]
  },
  {
   "cell_type": "markdown",
   "id": "2b701656",
   "metadata": {},
   "source": [
    "Проверим, что поле id является уникальным. Это гарантирует нам:\n",
    "* остутствие дублей\n",
    "* одному студенту присвоена только 1 группа\n",
    "\n",
    "\n",
    "*Note: кол-во уникальных id должно быть равно 74484*"
   ]
  },
  {
   "cell_type": "code",
   "execution_count": 6,
   "id": "0e31ae68",
   "metadata": {},
   "outputs": [
    {
     "data": {
      "text/plain": [
       "74484"
      ]
     },
     "execution_count": 6,
     "metadata": {},
     "output_type": "execute_result"
    }
   ],
   "source": [
    "groups.id.nunique()"
   ]
  },
  {
   "cell_type": "markdown",
   "id": "18d7fc18",
   "metadata": {},
   "source": [
    "#### Распределение групп между студентами"
   ]
  },
  {
   "cell_type": "code",
   "execution_count": 7,
   "id": "de5d5b7e",
   "metadata": {
    "scrolled": false
   },
   "outputs": [
    {
     "data": {
      "image/png": "[encoded data removed]",
      "text/plain": [
       "<Figure size 432x288 with 1 Axes>"
      ]
     },
     "metadata": {
      "needs_background": "light"
     },
     "output_type": "display_data"
    }
   ],
   "source": [
    "groups = groups.sort_values('grp')\n",
    "distr_grp = groups.grp.value_counts(sort=False)\n",
    "\n",
    "sns.barplot(x=distr_grp.index, y=distr_grp.values).set_title(\"Num of students by Group\")\n",
    "plt.show()"
   ]
  },
  {
   "cell_type": "markdown",
   "id": "2d96a068",
   "metadata": {},
   "source": [
    "В тестовую группу попало в 4 раза больше студентов"
   ]
  },
  {
   "cell_type": "markdown",
   "id": "88bd3d20",
   "metadata": {},
   "source": [
    "### active_studs.csv\n",
    "\n",
    "Файл с информацией о пользователях, которые зашли на платформу в дни проведения эксперимента. \n",
    "* **student_id** - id студента"
   ]
  },
  {
   "cell_type": "code",
   "execution_count": 8,
   "id": "c3fcc06b",
   "metadata": {
    "scrolled": true
   },
   "outputs": [
    {
     "name": "stdout",
     "output_type": "stream",
     "text": [
      "8341 2\n"
     ]
    },
    {
     "data": {
      "text/html": [
       "<div>\n",
       "<style scoped>\n",
       "    .dataframe tbody tr th:only-of-type {\n",
       "        vertical-align: middle;\n",
       "    }\n",
       "\n",
       "    .dataframe tbody tr th {\n",
       "        vertical-align: top;\n",
       "    }\n",
       "\n",
       "    .dataframe thead th {\n",
       "        text-align: right;\n",
       "    }\n",
       "</style>\n",
       "<table border=\"1\" class=\"dataframe\">\n",
       "  <thead>\n",
       "    <tr style=\"text-align: right;\">\n",
       "      <th></th>\n",
       "      <th>id</th>\n",
       "      <th>active</th>\n",
       "    </tr>\n",
       "  </thead>\n",
       "  <tbody>\n",
       "    <tr>\n",
       "      <th>0</th>\n",
       "      <td>581585</td>\n",
       "      <td>True</td>\n",
       "    </tr>\n",
       "    <tr>\n",
       "      <th>1</th>\n",
       "      <td>5723133</td>\n",
       "      <td>True</td>\n",
       "    </tr>\n",
       "    <tr>\n",
       "      <th>2</th>\n",
       "      <td>3276743</td>\n",
       "      <td>True</td>\n",
       "    </tr>\n",
       "    <tr>\n",
       "      <th>3</th>\n",
       "      <td>4238589</td>\n",
       "      <td>True</td>\n",
       "    </tr>\n",
       "    <tr>\n",
       "      <th>4</th>\n",
       "      <td>4475369</td>\n",
       "      <td>True</td>\n",
       "    </tr>\n",
       "  </tbody>\n",
       "</table>\n",
       "</div>"
      ],
      "text/plain": [
       "        id  active\n",
       "0   581585    True\n",
       "1  5723133    True\n",
       "2  3276743    True\n",
       "3  4238589    True\n",
       "4  4475369    True"
      ]
     },
     "execution_count": 8,
     "metadata": {},
     "output_type": "execute_result"
    }
   ],
   "source": [
    "active_studs = pd.read_csv(get_download_url(links['active_studs']))\n",
    "\n",
    "# Для удобства переименуем student_id в id\n",
    "active_studs = active_studs.rename(columns={'student_id': 'id'})\n",
    "\n",
    "# Для сплитования добавим метку active\n",
    "active_studs['active'] = True\n",
    "\n",
    "print(*active_studs.shape)\n",
    "active_studs.head(5)"
   ]
  },
  {
   "cell_type": "markdown",
   "id": "f57c23de",
   "metadata": {},
   "source": [
    "Проверим, что поле id является уникальным. Это гарантирует нам:\n",
    "* остутствие дублей\n",
    "\n",
    "*Note: кол-во уникальных id должно быть равно 8341*"
   ]
  },
  {
   "cell_type": "code",
   "execution_count": 9,
   "id": "59af385b",
   "metadata": {},
   "outputs": [
    {
     "data": {
      "text/plain": [
       "8341"
      ]
     },
     "execution_count": 9,
     "metadata": {},
     "output_type": "execute_result"
    }
   ],
   "source": [
    "active_studs.id.nunique()"
   ]
  },
  {
   "cell_type": "markdown",
   "id": "080c9b27",
   "metadata": {},
   "source": [
    "Проверим, всем ли активным студентам была присвоена группа."
   ]
  },
  {
   "cell_type": "code",
   "execution_count": 10,
   "id": "f384a0b9",
   "metadata": {},
   "outputs": [
    {
     "name": "stdout",
     "output_type": "stream",
     "text": [
      "13 активным студентам не присвоена группа\n"
     ]
    }
   ],
   "source": [
    "grp_active = active_studs.merge(groups, how='left', on='id')\n",
    "print(f'{grp_active.grp.isna().sum()} активным студентам не присвоена группа')"
   ]
  },
  {
   "cell_type": "markdown",
   "id": "998ee0b1",
   "metadata": {},
   "source": [
    "Не будем учитывать этих студентов при расчете основных метрик по группам"
   ]
  },
  {
   "cell_type": "markdown",
   "id": "a079f722",
   "metadata": {},
   "source": [
    "#### Распределение групп между студентами, которые проявили активность в дни эксперимента"
   ]
  },
  {
   "cell_type": "code",
   "execution_count": 11,
   "id": "85ee65ca",
   "metadata": {},
   "outputs": [
    {
     "data": {
      "image/png": "[encoded data removed]",
      "text/plain": [
       "<Figure size 432x288 with 1 Axes>"
      ]
     },
     "metadata": {
      "needs_background": "light"
     },
     "output_type": "display_data"
    }
   ],
   "source": [
    "grp_active = grp_active.sort_values('grp')\n",
    "distr_active_grp = grp_active[~grp_active.grp.isna()].grp.value_counts(sort=False)\n",
    "\n",
    "sns.barplot(x=distr_active_grp.index, y=distr_active_grp.values).set_title(\"Num of active students by Group\")\n",
    "plt.show()"
   ]
  },
  {
   "cell_type": "code",
   "execution_count": 12,
   "id": "51d9db39",
   "metadata": {},
   "outputs": [],
   "source": [
    "# Добавим метку активного студента в таблицу groups, для дальнейшего расчета основных метрик\n",
    "groups = groups.merge(active_studs, how='left', on='id').fillna(False)"
   ]
  },
  {
   "cell_type": "markdown",
   "id": "72ae63b3",
   "metadata": {},
   "source": [
    "### Проверка конверсии в активного пользователя\n",
    "\n",
    "Т.к. оплата происходит только после формирования корзины, изменение механики оплаты услуг на сайте, не должно было повлиять на то проявляет ли студент активность на сайте."
   ]
  },
  {
   "cell_type": "code",
   "execution_count": 13,
   "id": "6fb54ea4",
   "metadata": {},
   "outputs": [
    {
     "data": {
      "text/html": [
       "<style type=\"text/css\">\n",
       "</style>\n",
       "<table id=\"T_53bd6\">\n",
       "  <thead>\n",
       "    <tr>\n",
       "      <th class=\"blank level0\" >&nbsp;</th>\n",
       "      <th id=\"T_53bd6_level0_col0\" class=\"col_heading level0 col0\" >grp</th>\n",
       "      <th id=\"T_53bd6_level0_col1\" class=\"col_heading level0 col1\" >active</th>\n",
       "    </tr>\n",
       "  </thead>\n",
       "  <tbody>\n",
       "    <tr>\n",
       "      <th id=\"T_53bd6_level0_row0\" class=\"row_heading level0 row0\" >0</th>\n",
       "      <td id=\"T_53bd6_row0_col0\" class=\"data row0 col0\" >A</td>\n",
       "      <td id=\"T_53bd6_row0_col1\" class=\"data row0 col1\" >10.46%</td>\n",
       "    </tr>\n",
       "    <tr>\n",
       "      <th id=\"T_53bd6_level0_row1\" class=\"row_heading level0 row1\" >1</th>\n",
       "      <td id=\"T_53bd6_row1_col0\" class=\"data row1 col0\" >B</td>\n",
       "      <td id=\"T_53bd6_row1_col1\" class=\"data row1 col1\" >11.36%</td>\n",
       "    </tr>\n",
       "  </tbody>\n",
       "</table>\n"
      ],
      "text/plain": [
       "<pandas.io.formats.style.Styler at 0x131d7f1f0>"
      ]
     },
     "execution_count": 13,
     "metadata": {},
     "output_type": "execute_result"
    }
   ],
   "source": [
    "# Посмотрим какая доля студентов в группах была активная\n",
    "groups \\\n",
    "    .groupby('grp', as_index=False) \\\n",
    "    .agg({'active': 'mean'}) \\\n",
    "    .style.format({'active': '{:.2%}'})"
   ]
  },
  {
   "cell_type": "markdown",
   "id": "f4067663",
   "metadata": {},
   "source": [
    "Заметим, что конверсия в активного пользователя в группе **B** на 0.9% выше, чем в группе **A**. \n",
    "\n",
    "Проверим, являются ли эти отличия статистически значимыми.\n",
    "\n",
    "\n",
    "Сформулируем гипотезы:\n",
    "\n",
    "* $\\sf{H_{0}}$: Нет взаимосвязи между группой и проявлением активности\n",
    "* $\\sf{H_{1}}$: Факт активности студента и группа взаимосвязаны между собой\n",
    "\n",
    "#### Таблица сопряженности\n",
    "\n"
   ]
  },
  {
   "cell_type": "code",
   "execution_count": 14,
   "id": "1b3ff05f",
   "metadata": {},
   "outputs": [
    {
     "data": {
      "image/png": "[encoded data removed]",
      "text/plain": [
       "<Figure size 576x360 with 2 Axes>"
      ]
     },
     "metadata": {
      "needs_background": "light"
     },
     "output_type": "display_data"
    }
   ],
   "source": [
    "contingency_table_active = groups \\\n",
    "    .pivot_table(values='id', \n",
    "                 index='grp', \n",
    "                 columns='active', \n",
    "                 aggfunc='count')\n",
    "\n",
    "plt.figure(figsize=(8, 5))\n",
    "sns.heatmap(contingency_table_active, annot=True, fmt=\"d\", cmap=pallet_name)\n",
    "plt.show()"
   ]
  },
  {
   "cell_type": "markdown",
   "id": "67bc39bb",
   "metadata": {},
   "source": [
    "Применим тест $\\chi ^{2}$"
   ]
  },
  {
   "cell_type": "code",
   "execution_count": 15,
   "id": "d999c3fa",
   "metadata": {},
   "outputs": [
    {
     "name": "stdout",
     "output_type": "stream",
     "text": [
      "p_value: 0.0021\n",
      "chi square: 9.4868\n",
      "\n"
     ]
    }
   ],
   "source": [
    "chi2, p, dof, ex = stats.chi2_contingency(contingency_table_active, correction=False)\n",
    "print(f'''p_value: {p.round(4)}\n",
    "chi square: {chi2.round(4)}\n",
    "''')"
   ]
  },
  {
   "cell_type": "markdown",
   "id": "2d6c756b",
   "metadata": {},
   "source": [
    "**p-value < 0.05**\n",
    "\n",
    "У нас достаточно оснований отклонить нулевую гипотезу об остутствии взаимосвязи между группой и проявлением активности студентом.\n",
    "\n",
    "Конверсия в активного пользователя в группе **B** статистически значимо больше.\n",
    "\n",
    "Что ставит под сомнение корректность системы сплитования."
   ]
  },
  {
   "cell_type": "markdown",
   "id": "95eec326",
   "metadata": {},
   "source": [
    "### checks.csv\n",
    "\n",
    "Файл с информацией об оплатах пользователей в дни проведения эксперимента. \n",
    "* **student_id** - id студента\n",
    "* **rev** - оплаты пользователя в дни проведения эксперимента"
   ]
  },
  {
   "cell_type": "code",
   "execution_count": 16,
   "id": "f7187b3d",
   "metadata": {},
   "outputs": [
    {
     "name": "stdout",
     "output_type": "stream",
     "text": [
      "541 3\n"
     ]
    },
    {
     "data": {
      "text/html": [
       "<div>\n",
       "<style scoped>\n",
       "    .dataframe tbody tr th:only-of-type {\n",
       "        vertical-align: middle;\n",
       "    }\n",
       "\n",
       "    .dataframe tbody tr th {\n",
       "        vertical-align: top;\n",
       "    }\n",
       "\n",
       "    .dataframe thead th {\n",
       "        text-align: right;\n",
       "    }\n",
       "</style>\n",
       "<table border=\"1\" class=\"dataframe\">\n",
       "  <thead>\n",
       "    <tr style=\"text-align: right;\">\n",
       "      <th></th>\n",
       "      <th>id</th>\n",
       "      <th>rev</th>\n",
       "      <th>purchase</th>\n",
       "    </tr>\n",
       "  </thead>\n",
       "  <tbody>\n",
       "    <tr>\n",
       "      <th>0</th>\n",
       "      <td>1627</td>\n",
       "      <td>990.0</td>\n",
       "      <td>True</td>\n",
       "    </tr>\n",
       "    <tr>\n",
       "      <th>1</th>\n",
       "      <td>3185</td>\n",
       "      <td>690.0</td>\n",
       "      <td>True</td>\n",
       "    </tr>\n",
       "    <tr>\n",
       "      <th>2</th>\n",
       "      <td>25973</td>\n",
       "      <td>690.0</td>\n",
       "      <td>True</td>\n",
       "    </tr>\n",
       "    <tr>\n",
       "      <th>3</th>\n",
       "      <td>26280</td>\n",
       "      <td>690.0</td>\n",
       "      <td>True</td>\n",
       "    </tr>\n",
       "    <tr>\n",
       "      <th>4</th>\n",
       "      <td>100300</td>\n",
       "      <td>990.0</td>\n",
       "      <td>True</td>\n",
       "    </tr>\n",
       "  </tbody>\n",
       "</table>\n",
       "</div>"
      ],
      "text/plain": [
       "       id    rev  purchase\n",
       "0    1627  990.0      True\n",
       "1    3185  690.0      True\n",
       "2   25973  690.0      True\n",
       "3   26280  690.0      True\n",
       "4  100300  990.0      True"
      ]
     },
     "execution_count": 16,
     "metadata": {},
     "output_type": "execute_result"
    }
   ],
   "source": [
    "checks = pd.read_csv(get_download_url(links['checks']), sep=';')\n",
    "\n",
    "# Для удобства переименуем student_id в id\n",
    "checks = checks.rename(columns={'student_id': 'id'})\n",
    "\n",
    "# Для сплитования добавим метку check\n",
    "checks['purchase'] = True\n",
    "\n",
    "print(*checks.shape)\n",
    "checks.head(5)"
   ]
  },
  {
   "cell_type": "markdown",
   "id": "b6daa080",
   "metadata": {},
   "source": [
    "Проверим, что поле id является уникальным. Это гарантирует нам:\n",
    "* остутствие дублей\n",
    "* rev указано суммарно за дни проведения эксперимента, а не отдельными чеками (либо 1 студентом было сделано не более 1 покупки)\n",
    "\n",
    "*Note: кол-во уникальных id должно быть равно 541*"
   ]
  },
  {
   "cell_type": "code",
   "execution_count": 17,
   "id": "9890c41d",
   "metadata": {
    "scrolled": true
   },
   "outputs": [
    {
     "data": {
      "text/plain": [
       "541"
      ]
     },
     "execution_count": 17,
     "metadata": {},
     "output_type": "execute_result"
    }
   ],
   "source": [
    "checks.id.nunique()"
   ]
  },
  {
   "cell_type": "markdown",
   "id": "22ce73a0",
   "metadata": {},
   "source": [
    "Проверим, всем ли студентам, совершившим покупку, была присвоена группа."
   ]
  },
  {
   "cell_type": "code",
   "execution_count": 18,
   "id": "ae99a479",
   "metadata": {},
   "outputs": [
    {
     "name": "stdout",
     "output_type": "stream",
     "text": [
      "1 студенту не присвоена группа\n"
     ]
    }
   ],
   "source": [
    "grp_checks = checks.merge(groups, how='left', on='id')\n",
    "print(f'{grp_checks.grp.isna().sum()} студенту не присвоена группа')"
   ]
  },
  {
   "cell_type": "markdown",
   "id": "af9d1203",
   "metadata": {},
   "source": [
    "Проверим, всем ли студенты, совершившие покупку, были активны"
   ]
  },
  {
   "cell_type": "code",
   "execution_count": 19,
   "id": "4b7c1e7c",
   "metadata": {
    "scrolled": true
   },
   "outputs": [
    {
     "name": "stdout",
     "output_type": "stream",
     "text": [
      "149 купивших студентов не были активны (27.54% от всех купивших)\n"
     ]
    }
   ],
   "source": [
    "active_checks = checks.merge(active_studs, how='left', on='id')\n",
    "not_act = active_checks.active.isna().sum()\n",
    "share_not_act = (not_act * 100 / active_checks.shape[0]).round(2)\n",
    "\n",
    "print(f'{not_act} купивших студентов не были активны ({share_not_act}% от всех купивших)')"
   ]
  },
  {
   "cell_type": "markdown",
   "id": "0c3e85df",
   "metadata": {},
   "source": [
    "Сделаем **предположение**, что для студентов, которые не были активными, но все равно купили курс. Изменение механики оплаты не должно повлиять на их конверсию в покупку. Т.к. эти студенты целенаправленно пришли покупать курс и скорее всего доведут этот процесс до конца. \n",
    "\n",
    "Исходя из этого предположения, уточним, что целевой метрикой будем учитывать **CR активных студентов в покупку**."
   ]
  },
  {
   "cell_type": "code",
   "execution_count": 20,
   "id": "dcc71cd7",
   "metadata": {},
   "outputs": [],
   "source": [
    "# Добавим метку покупки и сумму в таблицу groups, для дальнейшего расчета основных метрик\n",
    "groups = groups.merge(checks, how='left', on='id')\n",
    "groups['purchase'] = groups.purchase.fillna(False)"
   ]
  },
  {
   "cell_type": "markdown",
   "id": "b273952b",
   "metadata": {},
   "source": [
    "#### Распределение сумм покупок студентов, по которым присвоена группа"
   ]
  },
  {
   "cell_type": "code",
   "execution_count": 21,
   "id": "2eb6b4b8",
   "metadata": {},
   "outputs": [
    {
     "data": {
      "image/png": "[encoded data removed]",
      "text/plain": [
       "<Figure size 432x288 with 1 Axes>"
      ]
     },
     "metadata": {
      "needs_background": "light"
     },
     "output_type": "display_data"
    }
   ],
   "source": [
    "sns.histplot(groups.rev, kde=True, bins=15)\n",
    "plt.show()"
   ]
  },
  {
   "cell_type": "markdown",
   "id": "f0adeb07",
   "metadata": {},
   "source": [
    "Из графика видно, что студенты в основном покупают курсы на сумму до 2000 руб.\n",
    "\n",
    "B районе 2000 руб. всплеск покупок. Посмотрим на TOP-5 сумм оплат."
   ]
  },
  {
   "cell_type": "code",
   "execution_count": 22,
   "id": "2d694f2b",
   "metadata": {},
   "outputs": [
    {
     "data": {
      "text/plain": [
       "1900.0    132\n",
       "290.0      94\n",
       "690.0      78\n",
       "199.0      46\n",
       "990.0      41\n",
       "Name: rev, dtype: int64"
      ]
     },
     "execution_count": 22,
     "metadata": {},
     "output_type": "execute_result"
    }
   ],
   "source": [
    "groups.rev.round(2).value_counts().head(5)"
   ]
  },
  {
   "cell_type": "markdown",
   "id": "097f4863",
   "metadata": {},
   "source": [
    "Видим, что больше всего оплат в 1900 руб. Предположим, что это может быть:\n",
    "* Курс, который пользуется популярностью\n",
    "* Акция на один из курсов (В этом случае надо внимательно проверять, чтобы это не влияло на проведение A/B теста)"
   ]
  },
  {
   "cell_type": "markdown",
   "id": "4c7881c0",
   "metadata": {},
   "source": [
    "#### Распределение сумм покупок студентов по группам."
   ]
  },
  {
   "cell_type": "code",
   "execution_count": 23,
   "id": "cfb93d1e",
   "metadata": {},
   "outputs": [
    {
     "data": {
      "image/png": "[encoded data removed]",
      "text/plain": [
       "<Figure size 576x288 with 2 Axes>"
      ]
     },
     "metadata": {
      "needs_background": "light"
     },
     "output_type": "display_data"
    }
   ],
   "source": [
    "g = sns.FacetGrid(groups, \n",
    "                  col=\"grp\", \n",
    "                  sharey=False, \n",
    "                  height=4, \n",
    "                  hue='grp')\n",
    "\n",
    "g = g.map(sns.histplot, 'rev', kde=True, bins=15)\n",
    "g.set_titles(col_template=\"{col_name}\")\n",
    "plt.show()"
   ]
  },
  {
   "cell_type": "markdown",
   "id": "bb7c91ae",
   "metadata": {},
   "source": [
    "Из графиков видно, что скачок в 1900 руб сохранился только в группе B.\n",
    "\n",
    "Посмотрим, какое распределние оплат в 1900 руб между группами"
   ]
  },
  {
   "cell_type": "code",
   "execution_count": 24,
   "id": "9adaa185",
   "metadata": {},
   "outputs": [
    {
     "data": {
      "text/plain": [
       "B    132\n",
       "Name: grp, dtype: int64"
      ]
     },
     "execution_count": 24,
     "metadata": {},
     "output_type": "execute_result"
    }
   ],
   "source": [
    "groups.query(\"rev.round(2) == 1900\").grp.value_counts()"
   ]
  },
  {
   "cell_type": "markdown",
   "id": "567f9d1b",
   "metadata": {},
   "source": [
    "Видим, что **все** оплаты в 1900 руб приходятся только на тестовую группу. "
   ]
  },
  {
   "cell_type": "markdown",
   "id": "babb8aad",
   "metadata": {},
   "source": [
    "### Основные показатели по группам"
   ]
  },
  {
   "cell_type": "code",
   "execution_count": 25,
   "id": "e90eea49",
   "metadata": {},
   "outputs": [],
   "source": [
    "groups['rev_all'] = groups.apply(lambda x: max(0, x.rev), axis=1)\n",
    "groups['rev_active'] = groups.apply(lambda x: max(0, x.rev) if x.active else np.nan, axis=1)\n",
    "groups['purchase_active'] = groups.apply(lambda x: x.rev_active > 0 if x.active else np.nan, axis=1)"
   ]
  },
  {
   "cell_type": "code",
   "execution_count": 26,
   "id": "c9e5baeb",
   "metadata": {},
   "outputs": [],
   "source": [
    "rename = {'active': 'CR_to_active',\n",
    "          'purchase': 'CR_to_purchase',\n",
    "          'purchase_active': 'CR_active_to_purchase', \n",
    "          'rev_all': 'ARPU',\n",
    "          'rev_active': 'ARPAU', \n",
    "          'rev': 'ARPPU'}"
   ]
  },
  {
   "cell_type": "code",
   "execution_count": 27,
   "id": "d23c67f7",
   "metadata": {},
   "outputs": [],
   "source": [
    "main_properties = groups \\\n",
    "    .groupby('grp', as_index=False) \\\n",
    "    .agg({'active': 'mean',\n",
    "          'purchase': 'mean',\n",
    "          'purchase_active': 'mean',\n",
    "          'rev_all': 'mean', \n",
    "          'rev_active': 'mean',\n",
    "          'rev': 'mean'}) \\\n",
    "    .rename(columns=rename)"
   ]
  },
  {
   "cell_type": "code",
   "execution_count": 28,
   "id": "a66f0086",
   "metadata": {},
   "outputs": [
    {
     "data": {
      "text/html": [
       "<style type=\"text/css\">\n",
       "</style>\n",
       "<table id=\"T_fe6c5\">\n",
       "  <thead>\n",
       "    <tr>\n",
       "      <th class=\"blank level0\" >&nbsp;</th>\n",
       "      <th id=\"T_fe6c5_level0_col0\" class=\"col_heading level0 col0\" >grp</th>\n",
       "      <th id=\"T_fe6c5_level0_col1\" class=\"col_heading level0 col1\" >CR_to_active</th>\n",
       "      <th id=\"T_fe6c5_level0_col2\" class=\"col_heading level0 col2\" >CR_to_purchase</th>\n",
       "      <th id=\"T_fe6c5_level0_col3\" class=\"col_heading level0 col3\" >CR_active_to_purchase</th>\n",
       "      <th id=\"T_fe6c5_level0_col4\" class=\"col_heading level0 col4\" >ARPU</th>\n",
       "      <th id=\"T_fe6c5_level0_col5\" class=\"col_heading level0 col5\" >ARPAU</th>\n",
       "      <th id=\"T_fe6c5_level0_col6\" class=\"col_heading level0 col6\" >ARPPU</th>\n",
       "    </tr>\n",
       "  </thead>\n",
       "  <tbody>\n",
       "    <tr>\n",
       "      <th id=\"T_fe6c5_level0_row0\" class=\"row_heading level0 row0\" >0</th>\n",
       "      <td id=\"T_fe6c5_row0_col0\" class=\"data row0 col0\" >A</td>\n",
       "      <td id=\"T_fe6c5_row0_col1\" class=\"data row0 col1\" >10.46%</td>\n",
       "      <td id=\"T_fe6c5_row0_col2\" class=\"data row0 col2\" >0.73%</td>\n",
       "      <td id=\"T_fe6c5_row0_col3\" class=\"data row0 col3\" >5.08%</td>\n",
       "      <td id=\"T_fe6c5_row0_col4\" class=\"data row0 col4\" >6.28</td>\n",
       "      <td id=\"T_fe6c5_row0_col5\" class=\"data row0 col5\" >47.44</td>\n",
       "      <td id=\"T_fe6c5_row0_col6\" class=\"data row0 col6\" >860.71</td>\n",
       "    </tr>\n",
       "    <tr>\n",
       "      <th id=\"T_fe6c5_level0_row1\" class=\"row_heading level0 row1\" >1</th>\n",
       "      <td id=\"T_fe6c5_row1_col0\" class=\"data row1 col0\" >B</td>\n",
       "      <td id=\"T_fe6c5_row1_col1\" class=\"data row1 col1\" >11.36%</td>\n",
       "      <td id=\"T_fe6c5_row1_col2\" class=\"data row1 col2\" >0.72%</td>\n",
       "      <td id=\"T_fe6c5_row1_col3\" class=\"data row1 col3\" >4.61%</td>\n",
       "      <td id=\"T_fe6c5_row1_col4\" class=\"data row1 col4\" >8.01</td>\n",
       "      <td id=\"T_fe6c5_row1_col5\" class=\"data row1 col5\" >57.86</td>\n",
       "      <td id=\"T_fe6c5_row1_col6\" class=\"data row1 col6\" >1107.00</td>\n",
       "    </tr>\n",
       "  </tbody>\n",
       "</table>\n"
      ],
      "text/plain": [
       "<pandas.io.formats.style.Styler at 0x13247d210>"
      ]
     },
     "execution_count": 28,
     "metadata": {},
     "output_type": "execute_result"
    }
   ],
   "source": [
    "main_properties \\\n",
    "    .style.format({'CR_to_active': '{:.2%}',\n",
    "                   'CR_to_purchase': '{:.2%}',\n",
    "                   'CR_active_to_purchase': '{:.2%}',\n",
    "                   'ARPU': '{:.2f}',\n",
    "                   'ARPAU': '{:.2f}',\n",
    "                   'ARPPU': '{:.2f}'})"
   ]
  },
  {
   "cell_type": "markdown",
   "id": "cc6a737a",
   "metadata": {},
   "source": [
    "В тестовой выборке целевая метрика (**CR в покупку**) снизилась.\n",
    "\n",
    "Изменение механики оплаты услуг на сайте, не должно было повлиять на **ARPPU**. При этом видим, что в тестовой группе **ARPPU** увеличился.\n",
    "\n",
    "Посмотрим на метрику **ARPPU** без оплат в 1900 руб."
   ]
  },
  {
   "cell_type": "code",
   "execution_count": 29,
   "id": "56980c8c",
   "metadata": {
    "scrolled": true
   },
   "outputs": [
    {
     "data": {
      "text/html": [
       "<style type=\"text/css\">\n",
       "</style>\n",
       "<table id=\"T_dba94\">\n",
       "  <thead>\n",
       "    <tr>\n",
       "      <th class=\"blank level0\" >&nbsp;</th>\n",
       "      <th id=\"T_dba94_level0_col0\" class=\"col_heading level0 col0\" >grp</th>\n",
       "      <th id=\"T_dba94_level0_col1\" class=\"col_heading level0 col1\" >ARPPU_without_1900</th>\n",
       "    </tr>\n",
       "  </thead>\n",
       "  <tbody>\n",
       "    <tr>\n",
       "      <th id=\"T_dba94_level0_row0\" class=\"row_heading level0 row0\" >0</th>\n",
       "      <td id=\"T_dba94_row0_col0\" class=\"data row0 col0\" >A</td>\n",
       "      <td id=\"T_dba94_row0_col1\" class=\"data row0 col1\" >860.71</td>\n",
       "    </tr>\n",
       "    <tr>\n",
       "      <th id=\"T_dba94_level0_row1\" class=\"row_heading level0 row1\" >1</th>\n",
       "      <td id=\"T_dba94_row1_col0\" class=\"data row1 col0\" >B</td>\n",
       "      <td id=\"T_dba94_row1_col1\" class=\"data row1 col1\" >759.24</td>\n",
       "    </tr>\n",
       "  </tbody>\n",
       "</table>\n"
      ],
      "text/plain": [
       "<pandas.io.formats.style.Styler at 0x131d7f850>"
      ]
     },
     "execution_count": 29,
     "metadata": {},
     "output_type": "execute_result"
    }
   ],
   "source": [
    "groups \\\n",
    "    .query('~rev.isna() and rev.round() != 1900') \\\n",
    "    .groupby('grp', as_index=False) \\\n",
    "    .agg({'rev': 'mean'}) \\\n",
    "    .rename(columns={'rev': 'ARPPU_without_1900'}) \\\n",
    "    .style.format({'ARPPU_without_1900': '{:.2f}'})"
   ]
  },
  {
   "cell_type": "markdown",
   "id": "94f848b7",
   "metadata": {},
   "source": [
    "На увеличение **ARPPU** повлияли покупки в 1900 руб. Необходимо установить причину появления этих покупок. "
   ]
  },
  {
   "cell_type": "markdown",
   "id": "1f4e4670",
   "metadata": {},
   "source": [
    "### Проверка ARPPU\n",
    "\n",
    "Проверим является ли изменение **ARPPU** статистически значимым.\n",
    "\n",
    "Сформулируем гипотезы:\n",
    "\n",
    "* $\\sf{H_{0}}$: никакого различия между средними значениями нет\n",
    "* $\\sf{H_{1}}$: средние не равны"
   ]
  },
  {
   "cell_type": "code",
   "execution_count": 30,
   "id": "c4dcce54",
   "metadata": {},
   "outputs": [],
   "source": [
    "rev_a = groups.query(\"grp == 'A' & ~rev.isna()\").rev\n",
    "rev_b = groups.query(\"grp == 'B' & ~rev.isna()\").rev"
   ]
  },
  {
   "cell_type": "markdown",
   "id": "5ca2240e",
   "metadata": {},
   "source": [
    "#### Выбор статистического метода\n",
    "\n",
    "**1. t-test**. Для проведения t-теста необходимо выполнение следующих условий:\n",
    "\n",
    "* гомогенность дисперсий\n",
    "* распределение среднего rev должнго быть нормально"
   ]
  },
  {
   "cell_type": "code",
   "execution_count": 31,
   "id": "6db52203",
   "metadata": {
    "scrolled": true
   },
   "outputs": [
    {
     "data": {
      "text/plain": [
       "LeveneResult(statistic=4.099799827819432, pvalue=0.043381693677143875)"
      ]
     },
     "execution_count": 31,
     "metadata": {},
     "output_type": "execute_result"
    }
   ],
   "source": [
    "# Посмотрим на гомогеность дисперсий\n",
    "stats.levene(rev_a, rev_b)"
   ]
  },
  {
   "cell_type": "markdown",
   "id": "48a60012",
   "metadata": {},
   "source": [
    "p-value < 0.05. У наc достаточно оснований отклонить нулевую гипотезу о равенстве дисперсий.\n",
    "\n",
    "Можно было бы использовать t-тест Уэлча, учитывающий неравенство дисперсий. Но давайте посмотрим на второе необходимое условие."
   ]
  },
  {
   "cell_type": "markdown",
   "id": "da61664d",
   "metadata": {},
   "source": [
    "Распределение среднего rev гарантировано будет нормальным при нормальности распределения.\n",
    "\n",
    "Посмотрим на qqplot"
   ]
  },
  {
   "cell_type": "code",
   "execution_count": 32,
   "id": "2611e058",
   "metadata": {},
   "outputs": [
    {
     "data": {
      "image/png": "[encoded data removed]",
      "text/plain": [
       "<Figure size 576x288 with 2 Axes>"
      ]
     },
     "metadata": {
      "needs_background": "light"
     },
     "output_type": "display_data"
    }
   ],
   "source": [
    "def quantile_plot(x, **kwargs):\n",
    "    quantiles, xr = stats.probplot(x, fit=False)\n",
    "    sns.regplot(x=quantiles, y=xr, **kwargs)\n",
    "    plt.ylabel('sample quantiles')\n",
    "\n",
    "\n",
    "g = sns.FacetGrid(groups.query('~rev.isna()'), \n",
    "                  col=\"grp\", \n",
    "                  sharey=False, \n",
    "                  height=4, \n",
    "                  hue='grp')\n",
    "\n",
    "g = g.map(quantile_plot, 'rev')\n",
    "g.set_titles(col_template='{col_name}')\n",
    "g.set_axis_labels('theoretical quantiles')\n",
    "plt.show()"
   ]
  },
  {
   "cell_type": "markdown",
   "id": "3db1f9a2",
   "metadata": {},
   "source": [
    "Видно, что рапределение отличается от нормального, но это еще не повод отказаться от t-теста.\n",
    "\n",
    "Т.к. у нас достаточно большой объем данных, все еще можем вопользоваться t-тестом, если в нем нет заметных выбросов.\n",
    "\n",
    "Проверим есть ли выбросы"
   ]
  },
  {
   "cell_type": "code",
   "execution_count": 33,
   "id": "3e3fdea3",
   "metadata": {},
   "outputs": [
    {
     "data": {
      "image/png": "[encoded data removed]",
      "text/plain": [
       "<Figure size 432x288 with 1 Axes>"
      ]
     },
     "metadata": {
      "needs_background": "light"
     },
     "output_type": "display_data"
    }
   ],
   "source": [
    "sns.boxplot(x=\"grp\", y=\"rev\", data=groups)\n",
    "plt.show()"
   ]
  },
  {
   "cell_type": "markdown",
   "id": "590c8458",
   "metadata": {},
   "source": [
    "В обеих группах присутствуют потенциальные выбросы.\n",
    "\n",
    "Т.о. ни одно из условий для выполнения t-теста не выполняется. \n",
    "\n",
    "В нашем случае не так много данных, чтобы с уверенностью применять t-тест. Лучше было бы применить непараметрический тест или бутстрап."
   ]
  },
  {
   "cell_type": "markdown",
   "id": "41f72a56",
   "metadata": {},
   "source": [
    "**2. U-критерий Манна-Уитни**. \n",
    "\n",
    "Этот критерий менее чувствителен к отклонениям от нормальности и наличию выбросов. \n",
    "\n",
    "Стоит обратить внимание, что данный критерий переводит данные в ранг, что накладывает ограничение, что в данных не должно быть большое количество совпадающих значений. \n",
    "\n",
    "А мы как раз проверяем аномальное количество одлинаковых платежей в 1900 руб."
   ]
  },
  {
   "cell_type": "markdown",
   "id": "a9ed07db",
   "metadata": {},
   "source": [
    "**Таким образом с учетом:**\n",
    "* отклонения от нормальности данных\n",
    "* объема данных\n",
    "* наличия выбросов\n",
    "* наличия большого количества совпадающих значений\n",
    "\n",
    "В нашем случае было бы безопаснее воспользоваться **bootstrap**"
   ]
  },
  {
   "cell_type": "code",
   "execution_count": 34,
   "id": "2de31c9f",
   "metadata": {},
   "outputs": [],
   "source": [
    "boot_len = groups.groupby('grp').agg({'purchase': 'sum'}).purchase.max()\n",
    "a = groups.query(\"grp == 'A' & ~rev.isna()\").rev\n",
    "b = groups.query(\"grp == 'B' & ~rev.isna()\").rev\n",
    "\n",
    "boot_data = []\n",
    "for _ in range(10000):\n",
    "    mean_a = np.mean(a.sample(boot_len, replace=True).values)\n",
    "    mean_b = np.mean(b.sample(boot_len, replace=True).values)\n",
    "    boot_data.append(mean_b - mean_a)\n",
    "    \n",
    "pd_boot_data = pd.DataFrame(boot_data)\n",
    "quants = pd_boot_data.quantile([0.05 / 2, 1 - 0.05 / 2])"
   ]
  },
  {
   "cell_type": "code",
   "execution_count": 35,
   "id": "d676d264",
   "metadata": {},
   "outputs": [
    {
     "data": {
      "image/png": "[encoded data removed]",
      "text/plain": [
       "<Figure size 432x288 with 1 Axes>"
      ]
     },
     "metadata": {
      "needs_background": "light"
     },
     "output_type": "display_data"
    }
   ],
   "source": [
    "_, _, bars = plt.hist(pd_boot_data[0], bins=50)\n",
    "for bar in bars:\n",
    "    if bar.get_x() <= quants.iloc[0][0] or bar.get_x() >= quants.iloc[1][0]:\n",
    "        bar.set_facecolor(my_pallet[-1])\n",
    "    else: \n",
    "        bar.set_facecolor(my_pallet[0])\n",
    "        bar.set_edgecolor('black')\n",
    "    \n",
    "plt.vlines(quants, ymin=0, ymax=400, linestyle='--', color=my_pallet[-1])\n",
    "plt.xlabel('boot_data')\n",
    "plt.ylabel('frequency')\n",
    "plt.show()"
   ]
  },
  {
   "cell_type": "markdown",
   "id": "114d9a21",
   "metadata": {},
   "source": [
    "#### Рассчитаем p-value"
   ]
  },
  {
   "cell_type": "code",
   "execution_count": 36,
   "id": "edde1f28",
   "metadata": {},
   "outputs": [
    {
     "data": {
      "text/plain": [
       "2.6120207570736253e-06"
      ]
     },
     "execution_count": 36,
     "metadata": {},
     "output_type": "execute_result"
    }
   ],
   "source": [
    "p_1 = stats.norm.cdf(0, np.mean(boot_data), np.std(boot_data))\n",
    "p_2 = stats.norm.cdf(0, -np.mean(boot_data), np.std(boot_data))\n",
    "p_value = min(p_1, p_2) * 2\n",
    "p_value"
   ]
  },
  {
   "cell_type": "markdown",
   "id": "e0aabffe",
   "metadata": {},
   "source": [
    "**p-value < 0.05.** \n",
    "\n",
    "У нас достаточно оснований отклонить нулевую гипотезу о равенстве средних.\n",
    "\n",
    "ARPPU в тестовой и контрольной группе статистически значимо отличаются.\n",
    "\n",
    "Необходимо выявить природу возникновения покупок в 1900 руб.\n",
    "\n",
    "* Была ли проведена акция на один из курсов? Если да, то это ставит под сомнение проведение A/B теста.\n",
    "* Были ли эти покупки связаны с новой механникой оплаты? Если да, то целевой метрикой надо учитывать ARPPU, который в свою очередь статистически значимо увеличился.\n",
    "\n",
    "*Note: в самом начале было сделано предположение, что ARPPU мог увеличиться при специфичных изменениях, предлагающих при офомлении добавить сопутствующий товар. Стоит отметить, что наше увеличение ARPPU не похоже на этот случай, т.к. увеличение вызвано покупками в 1900 руб. А добавление сопутствующих товаров, предпологает увеличение суммы уже сформированной корзины.*\n",
    "\n",
    "*Note: Если это была проведена акция через рассылку, то это объяснило бы статистичечки значимое увеличение конверсии в активного пользователя в группе B.*"
   ]
  },
  {
   "cell_type": "markdown",
   "id": "4f0ca29f",
   "metadata": {},
   "source": [
    "## Проверка изменений целевой метрики\n",
    "\n",
    "Проверим является ли изменение CR в покупку статистически значимым.\n",
    "\n",
    "Сформулируем гипотезы:\n",
    "\n",
    "* $\\sf{H_{0}}$: Нет взаимосвязи между группой (какая механника оплаты у студента) и фактом совершения покупки\n",
    "* $\\sf{H_{1}}$: Факт совершения покупки и группа взаимосвязаны между собой"
   ]
  },
  {
   "cell_type": "markdown",
   "id": "71e567d1",
   "metadata": {},
   "source": [
    "### Таблица сопряженности\n",
    "\n",
    "Будем рассматривать CR активного пользователя в покупку"
   ]
  },
  {
   "cell_type": "code",
   "execution_count": 37,
   "id": "450722ea",
   "metadata": {},
   "outputs": [
    {
     "data": {
      "image/png": "[encoded data removed]",
      "text/plain": [
       "<Figure size 576x360 with 2 Axes>"
      ]
     },
     "metadata": {
      "needs_background": "light"
     },
     "output_type": "display_data"
    }
   ],
   "source": [
    "contingency_table = groups \\\n",
    "    .query('active') \\\n",
    "    .pivot_table(values='id', \n",
    "                 index='grp', \n",
    "                 columns='purchase_active', \n",
    "                 aggfunc='count')\n",
    "\n",
    "plt.figure(figsize=(8, 5))\n",
    "sns.heatmap(contingency_table, annot=True, fmt=\"d\", cmap=pallet_name)\n",
    "plt.show()"
   ]
  },
  {
   "cell_type": "markdown",
   "id": "34d3519e",
   "metadata": {},
   "source": [
    "Все ее значения больше 10. Применим тест $\\chi ^{2}$"
   ]
  },
  {
   "cell_type": "code",
   "execution_count": 38,
   "id": "3338c6a7",
   "metadata": {},
   "outputs": [
    {
     "name": "stdout",
     "output_type": "stream",
     "text": [
      "p_value: 0.4281\n",
      "chi square: 0.628\n",
      "\n"
     ]
    }
   ],
   "source": [
    "chi2, p, dof, ex = stats.chi2_contingency(contingency_table, correction=False)\n",
    "print(f'''p_value: {p.round(4)}\n",
    "chi square: {chi2.round(4)}\n",
    "''')"
   ]
  },
  {
   "cell_type": "markdown",
   "id": "bc3695f1",
   "metadata": {},
   "source": [
    "**p-value > 0.05** \n",
    "\n",
    "У нас не достаточно оснований отклонить нулевую гипотезу. \n",
    "\n",
    "CR активного пользователя в покупку статистически значимо не изменился."
   ]
  },
  {
   "cell_type": "markdown",
   "id": "be3a4128",
   "metadata": {},
   "source": [
    "### Итог\n",
    "\n",
    "* Целевой метрикой проведения A/B тестирования был выбран CR активного пользователя в покупку. CR статистически значимо не изменился.\n",
    "* ARPPU статистически значимо увеличился. Что ставит под сомнение проведение A/B теста. Необходимо уточнить природу возникновения покупок в 1900 руб. И связано ли их появление с изменением страницы оплаты.\n",
    "* CR в активного пользователя статистически значимо увеличился. Что могло быть вызвано акцией из предыдущего пункта (если акция была рассылкой), либо сломанной сплит-системой. Так же необходимо дополнительно выяснять в чем причина."
   ]
  },
  {
   "cell_type": "markdown",
   "id": "be122754",
   "metadata": {},
   "source": [
    "# Задание 2. SQL\n",
    "\n",
    "## 2.1 Очень усердные ученики.\n",
    "\n",
    "Образовательные курсы состоят из различных уроков, каждый из которых состоит из нескольких маленьких заданий. Каждое такое маленькое задание называется \"горошиной\".\n",
    "\n",
    "Назовём очень усердным учеником того пользователя, который хотя бы раз **за текущий месяц правильно решил 20 горошин**.\n",
    "\n",
    "Необходимо написать **оптимальный запроc**, который даст информацию о количестве очень усердных студентов.\n",
    "\n"
   ]
  },
  {
   "cell_type": "markdown",
   "id": "da2f8da2",
   "metadata": {},
   "source": [
    "Сейчас с базе у нас находятся данные только за 2 дня одного месяца.\n",
    "\n",
    "Т.к. данные будут скорее всего дополняться новыми днями, будем считать **текущим месяцем** последний месяц за который есть данные."
   ]
  },
  {
   "cell_type": "code",
   "execution_count": 39,
   "id": "1a093e0d",
   "metadata": {},
   "outputs": [],
   "source": [
    "q_diligent_st = '''\n",
    "WITH(SELECT toStartOfMonth(MAX(timest)) FROM default.peas) AS current_month\n",
    "\n",
    "SELECT \n",
    "    COUNT(*) AS num_diligent_students\n",
    "FROM\n",
    "(\n",
    "    SELECT st_id\n",
    "    FROM default.peas\n",
    "    WHERE toStartOfMonth(timest) = current_month\n",
    "    GROUP BY st_id\n",
    "    HAVING SUM(correct) >= 20 \n",
    ")\n",
    "'''"
   ]
  },
  {
   "cell_type": "code",
   "execution_count": 40,
   "id": "3215244d",
   "metadata": {},
   "outputs": [
    {
     "data": {
      "text/html": [
       "<div>\n",
       "<style scoped>\n",
       "    .dataframe tbody tr th:only-of-type {\n",
       "        vertical-align: middle;\n",
       "    }\n",
       "\n",
       "    .dataframe tbody tr th {\n",
       "        vertical-align: top;\n",
       "    }\n",
       "\n",
       "    .dataframe thead th {\n",
       "        text-align: right;\n",
       "    }\n",
       "</style>\n",
       "<table border=\"1\" class=\"dataframe\">\n",
       "  <thead>\n",
       "    <tr style=\"text-align: right;\">\n",
       "      <th></th>\n",
       "      <th>num_diligent_students</th>\n",
       "    </tr>\n",
       "  </thead>\n",
       "  <tbody>\n",
       "    <tr>\n",
       "      <th>0</th>\n",
       "      <td>136</td>\n",
       "    </tr>\n",
       "  </tbody>\n",
       "</table>\n",
       "</div>"
      ],
      "text/plain": [
       "   num_diligent_students\n",
       "0                    136"
      ]
     },
     "execution_count": 40,
     "metadata": {},
     "output_type": "execute_result"
    }
   ],
   "source": [
    "diligent_st = ph.read_clickhouse(query=q_diligent_st, connection=connection)\n",
    "diligent_st"
   ]
  },
  {
   "cell_type": "markdown",
   "id": "d3247325",
   "metadata": {},
   "source": [
    "## 2.2 Оптимизация воронки\n",
    "\n",
    "Образовательная платформа предлагает пройти студентам курсы по модели trial: студент может решить бесплатно лишь 30 горошин в день. Для неограниченного количества заданий в определенной дисциплине студенту необходимо приобрести полный доступ. Команда провела эксперимент, где был протестирован новый экран оплаты.\n",
    "\n",
    "Необходимо в одном запросе выгрузить следующую информацию о группах пользователей:\n",
    "\n",
    "* ARPU \n",
    "* ARPAU \n",
    "* CR в покупку \n",
    "* СR активного пользователя в покупку \n",
    "* CR пользователя из активности по математике (subject = ’math’) в покупку курса по математике\n",
    "\n",
    "**ARPU** считается относительно всех пользователей, попавших в группы.\n",
    "\n",
    "**Активным** считается пользователь, за все время решивший больше 10 задач правильно в любых дисциплинах.\n",
    "\n",
    "**Активным по математике** считается пользователь, за все время решивший 2 или больше задач правильно по математике."
   ]
  },
  {
   "cell_type": "markdown",
   "id": "6b9747db",
   "metadata": {},
   "source": [
    "### Имеющаяся информация\n",
    "\n",
    "#### peas\n",
    "\n",
    "* **st_id** - ID ученика\n",
    "* **timest** - Время решения карточки\n",
    "* **correct** - Правильно ли решена горошина?\n",
    "* **subject** - Дисциплина, в которой находится горошина\n",
    "\n",
    "\n",
    "#### studs\n",
    "\n",
    "* **st_id** - ID ученика\n",
    "* **test_grp** - Метка ученика в данном эксперименте\n",
    "\n",
    "\n",
    "#### final_project_check\n",
    "* **st_id** - ID ученика\n",
    "* **sale_time** - Время покупки\n",
    "* **money** - Цена, по которой приобрели данный курс\n",
    "* **subject** - Дисциплина, на которую приобрели полный доступ"
   ]
  },
  {
   "cell_type": "markdown",
   "id": "9475bc75",
   "metadata": {},
   "source": [
    "### Что делаем\n",
    "\n",
    "Выберем отдельно:\n",
    "* **active_st** - из **peas** выделим активных студентов (по всем предметам/по математике)\n",
    "* **buying_st** - из **final_project_check** выделим студентов, которые совершили покупку (по всем предметам/по математике)\n",
    "\n",
    "Добавим информацию об активных студентах и студентах купивших курсы к талице **studs** и посчитаем необходимые метрики"
   ]
  },
  {
   "cell_type": "code",
   "execution_count": 41,
   "id": "01971e16",
   "metadata": {},
   "outputs": [],
   "source": [
    "q_grp_info = '''\n",
    "WITH\n",
    "    active_st AS \n",
    "    (\n",
    "        SELECT \n",
    "            st_id,\n",
    "            SUM(correct) > 10 AS active,\n",
    "            SUM(correct * (subject = 'Math')) >= 2 AS math_active\n",
    "        FROM peas\n",
    "        GROUP BY st_id\n",
    "        HAVING active OR math_active\n",
    "    ),\n",
    "    buying_st AS\n",
    "    (\n",
    "        SELECT \n",
    "            st_id,\n",
    "            SUM(money) AS rev,\n",
    "            SUM(money * (subject = 'Math')) AS math_rev\n",
    "        FROM final_project_check\n",
    "        GROUP BY st_id\n",
    "    ),\n",
    "    SUM(rev) / COUNT(*) AS ARPU,\n",
    "    SUM(rev * active) / SUM(active) AS ARPAU,\n",
    "    SUM(rev > 0)/ COUNT(*) AS CR,\n",
    "    SUM((rev > 0) * active) / SUM(active) AS CR_active,\n",
    "    SUM((math_rev > 0) * math_active) / SUM(math_active) AS CR_math_active\n",
    "\n",
    "SELECT \n",
    "    test_grp,\n",
    "    ARPU,\n",
    "    ARPAU,\n",
    "    CR,\n",
    "    CR_active,\n",
    "    CR_math_active\n",
    "FROM studs AS a\n",
    "LEFT JOIN active_st  AS b ON a.st_id = b.st_id\n",
    "LEFT JOIN buying_st AS c ON a.st_id = c.st_id\n",
    "GROUP BY test_grp\n",
    "'''"
   ]
  },
  {
   "cell_type": "code",
   "execution_count": 42,
   "id": "fc05ca49",
   "metadata": {},
   "outputs": [
    {
     "data": {
      "text/html": [
       "<style type=\"text/css\">\n",
       "</style>\n",
       "<table id=\"T_4d795\">\n",
       "  <thead>\n",
       "    <tr>\n",
       "      <th class=\"blank level0\" >&nbsp;</th>\n",
       "      <th id=\"T_4d795_level0_col0\" class=\"col_heading level0 col0\" >test_grp</th>\n",
       "      <th id=\"T_4d795_level0_col1\" class=\"col_heading level0 col1\" >ARPU</th>\n",
       "      <th id=\"T_4d795_level0_col2\" class=\"col_heading level0 col2\" >ARPAU</th>\n",
       "      <th id=\"T_4d795_level0_col3\" class=\"col_heading level0 col3\" >CR</th>\n",
       "      <th id=\"T_4d795_level0_col4\" class=\"col_heading level0 col4\" >CR_active</th>\n",
       "      <th id=\"T_4d795_level0_col5\" class=\"col_heading level0 col5\" >CR_math_active</th>\n",
       "    </tr>\n",
       "  </thead>\n",
       "  <tbody>\n",
       "    <tr>\n",
       "      <th id=\"T_4d795_level0_row0\" class=\"row_heading level0 row0\" >0</th>\n",
       "      <td id=\"T_4d795_row0_col0\" class=\"data row0 col0\" >control</td>\n",
       "      <td id=\"T_4d795_row0_col1\" class=\"data row0 col1\" >4540.98</td>\n",
       "      <td id=\"T_4d795_row0_col2\" class=\"data row0 col2\" >10393.70</td>\n",
       "      <td id=\"T_4d795_row0_col3\" class=\"data row0 col3\" >4.92%</td>\n",
       "      <td id=\"T_4d795_row0_col4\" class=\"data row0 col4\" >11.02%</td>\n",
       "      <td id=\"T_4d795_row0_col5\" class=\"data row0 col5\" >6.12%</td>\n",
       "    </tr>\n",
       "    <tr>\n",
       "      <th id=\"T_4d795_level0_row1\" class=\"row_heading level0 row1\" >1</th>\n",
       "      <td id=\"T_4d795_row1_col0\" class=\"data row1 col0\" >pilot</td>\n",
       "      <td id=\"T_4d795_row1_col1\" class=\"data row1 col1\" >11508.47</td>\n",
       "      <td id=\"T_4d795_row1_col2\" class=\"data row1 col2\" >29739.58</td>\n",
       "      <td id=\"T_4d795_row1_col3\" class=\"data row1 col3\" >10.85%</td>\n",
       "      <td id=\"T_4d795_row1_col4\" class=\"data row1 col4\" >26.04%</td>\n",
       "      <td id=\"T_4d795_row1_col5\" class=\"data row1 col5\" >9.52%</td>\n",
       "    </tr>\n",
       "  </tbody>\n",
       "</table>\n"
      ],
      "text/plain": [
       "<pandas.io.formats.style.Styler at 0x134869810>"
      ]
     },
     "execution_count": 42,
     "metadata": {},
     "output_type": "execute_result"
    }
   ],
   "source": [
    "grp_inf = ph.read_clickhouse(query=q_grp_info, connection=connection)\n",
    "grp_inf.style.format({'ARPU': \"{:.2f}\",\n",
    "                      'ARPAU': '{:.2f}',\n",
    "                      'CR': '{:.2%}',\n",
    "                      'CR_active': '{:.2%}',\n",
    "                      'CR_math_active': '{:.2%}'})"
   ]
  },
  {
   "cell_type": "markdown",
   "id": "625a7828",
   "metadata": {},
   "source": [
    "# Задание 3. Python\n",
    "\n",
    "* Реализуйте функцию, которая будет автоматически подгружать информацию из дополнительного файла groups_add.csv (заголовки могут отличаться) и на основании дополнительных параметров пересчитывать метрики.\n",
    "* Реализуйте функцию, которая будет строить графики по получаемым метрикам."
   ]
  },
  {
   "cell_type": "markdown",
   "id": "d33066cf",
   "metadata": {},
   "source": [
    "**groups_add.csv** - дополнительный файл с пользователями, который вам прислали спустя 2 дня после передачи данных"
   ]
  },
  {
   "cell_type": "code",
   "execution_count": 45,
   "id": "e4dddeb2",
   "metadata": {},
   "outputs": [],
   "source": [
    "def add_data(file, group_prev):\n",
    "    \"\"\"\n",
    "        Args:\n",
    "            file(str) - ссылка на csv файл со структурой: [id студента, группа A/B]\n",
    "            group_prev(DataFrame) - изначальные данные, которые необходимо дополнить.\n",
    "                id(int) - id студента\n",
    "                grp(str) - группа студента\n",
    "                active(bool) - бфл ли студент активным в дни проведения экперимента\n",
    "                rev(float) - сумма покупок в дни экперимента\n",
    "                rev_all(float) - сумма покупок в дни экперимента по всем студентам\n",
    "                purchase(bool) - факт совершения покупки в дни экперимента\n",
    "                rev_active(float) - сумма покупок активных студентов в дни экперимента\n",
    "                purchase_active(bool) - факт совершения покупки активным студентом в дни экперимента\n",
    "        Returns:\n",
    "            DataFrame - обновленные основные метрики по группам\n",
    "    \"\"\"\n",
    "    def interval(x):\n",
    "        std = x.std()\n",
    "        return 1.96 * std / np.sqrt(x.count())\n",
    "    \n",
    "    \n",
    "    group_add = pd.read_csv(file, names=['id', 'grp'], header=0)\n",
    "    \n",
    "    group_add = group_add.merge(active_studs, how='left', on='id').fillna(False)\n",
    "    group_add = group_add.merge(checks, how='left', on='id')\n",
    "    group_add['purchase'] = group_add.purchase.fillna(False)\n",
    "    \n",
    "    group_add['rev_all'] = group_add.apply(lambda x: max(0, x.rev), axis=1)\n",
    "    group_add['rev_active'] = group_add.apply(lambda x: max(0, x.rev) if x.active else np.nan, axis=1)\n",
    "    group_add['purchase_active'] = group_add.apply(lambda x: x.rev_active > 0 if x.active else np.nan, axis=1)\n",
    "    \n",
    "    group_new = pd.concat([group_prev, group_add], ignore_index=True)\n",
    "    \n",
    "    main_properties = group_new \\\n",
    "        .groupby('grp', as_index=False) \\\n",
    "        .agg({'active': 'mean',\n",
    "              'purchase': 'mean',\n",
    "              'purchase_active': 'mean',\n",
    "              'rev_all': 'mean', \n",
    "              'rev_active': 'mean',\n",
    "              'rev': 'mean'}) \\\n",
    "        .rename(columns=rename)\n",
    "\n",
    "    intervals = group_new \\\n",
    "        .groupby('grp', as_index=False) \\\n",
    "        .agg({'active': interval,\n",
    "              'purchase': interval,\n",
    "              'purchase_active': interval,\n",
    "              'rev_all': interval, \n",
    "              'rev_active': interval,\n",
    "              'rev': interval}) \\\n",
    "        .rename(columns=rename)\n",
    "\n",
    "    return main_properties, intervals"
   ]
  },
  {
   "cell_type": "code",
   "execution_count": 47,
   "id": "278215fe",
   "metadata": {},
   "outputs": [],
   "source": [
    "main_properties, intervals = add_data(get_download_url(links['groups_add']), groups)"
   ]
  },
  {
   "cell_type": "code",
   "execution_count": 48,
   "id": "51c67a91",
   "metadata": {
    "scrolled": true
   },
   "outputs": [
    {
     "data": {
      "text/html": [
       "<style type=\"text/css\">\n",
       "</style>\n",
       "<table id=\"T_8a82b\">\n",
       "  <thead>\n",
       "    <tr>\n",
       "      <th class=\"blank level0\" >&nbsp;</th>\n",
       "      <th id=\"T_8a82b_level0_col0\" class=\"col_heading level0 col0\" >grp</th>\n",
       "      <th id=\"T_8a82b_level0_col1\" class=\"col_heading level0 col1\" >CR_to_active</th>\n",
       "      <th id=\"T_8a82b_level0_col2\" class=\"col_heading level0 col2\" >CR_to_purchase</th>\n",
       "      <th id=\"T_8a82b_level0_col3\" class=\"col_heading level0 col3\" >CR_active_to_purchase</th>\n",
       "      <th id=\"T_8a82b_level0_col4\" class=\"col_heading level0 col4\" >ARPU</th>\n",
       "      <th id=\"T_8a82b_level0_col5\" class=\"col_heading level0 col5\" >ARPAU</th>\n",
       "      <th id=\"T_8a82b_level0_col6\" class=\"col_heading level0 col6\" >ARPPU</th>\n",
       "    </tr>\n",
       "  </thead>\n",
       "  <tbody>\n",
       "    <tr>\n",
       "      <th id=\"T_8a82b_level0_row0\" class=\"row_heading level0 row0\" >0</th>\n",
       "      <td id=\"T_8a82b_row0_col0\" class=\"data row0 col0\" >A</td>\n",
       "      <td id=\"T_8a82b_row0_col1\" class=\"data row0 col1\" >10.47%</td>\n",
       "      <td id=\"T_8a82b_row0_col2\" class=\"data row0 col2\" >0.73%</td>\n",
       "      <td id=\"T_8a82b_row0_col3\" class=\"data row0 col3\" >5.07%</td>\n",
       "      <td id=\"T_8a82b_row0_col4\" class=\"data row0 col4\" >6.27</td>\n",
       "      <td id=\"T_8a82b_row0_col5\" class=\"data row0 col5\" >47.35</td>\n",
       "      <td id=\"T_8a82b_row0_col6\" class=\"data row0 col6\" >860.71</td>\n",
       "    </tr>\n",
       "    <tr>\n",
       "      <th id=\"T_8a82b_level0_row1\" class=\"row_heading level0 row1\" >1</th>\n",
       "      <td id=\"T_8a82b_row1_col0\" class=\"data row1 col0\" >B</td>\n",
       "      <td id=\"T_8a82b_row1_col1\" class=\"data row1 col1\" >11.36%</td>\n",
       "      <td id=\"T_8a82b_row1_col2\" class=\"data row1 col2\" >0.72%</td>\n",
       "      <td id=\"T_8a82b_row1_col3\" class=\"data row1 col3\" >4.62%</td>\n",
       "      <td id=\"T_8a82b_row1_col4\" class=\"data row1 col4\" >8.04</td>\n",
       "      <td id=\"T_8a82b_row1_col5\" class=\"data row1 col5\" >58.06</td>\n",
       "      <td id=\"T_8a82b_row1_col6\" class=\"data row1 col6\" >1108.82</td>\n",
       "    </tr>\n",
       "  </tbody>\n",
       "</table>\n"
      ],
      "text/plain": [
       "<pandas.io.formats.style.Styler at 0x13252df00>"
      ]
     },
     "execution_count": 48,
     "metadata": {},
     "output_type": "execute_result"
    }
   ],
   "source": [
    "main_properties.style.format({'CR_to_active': '{:.2%}',\n",
    "                              'CR_to_purchase': '{:.2%}',\n",
    "                              'CR_active_to_purchase': '{:.2%}', \n",
    "                              'ARPU': '{:.2f}',\n",
    "                              'ARPAU': '{:.2f}',\n",
    "                              'ARPPU': '{:.2f}'})"
   ]
  },
  {
   "cell_type": "code",
   "execution_count": 51,
   "id": "1303bcda",
   "metadata": {},
   "outputs": [],
   "source": [
    "def build_errorbar(metrics, interval):   \n",
    "    def plot(x, y, yerr):\n",
    "        plt.errorbar(x=x, y=y, yerr=yerr, fmt='o')\n",
    "\n",
    "        \n",
    "    plt.figure(figsize=(18, 10))\n",
    "\n",
    "    fields = metrics.columns\n",
    "    for i in range(1, 7):\n",
    "        plt.subplot(230 + i)\n",
    "        y = metrics[fields[i]] * (100 if fields[i][:2] == 'CR' else  1)\n",
    "        yerr = interval[fields[i]] * (100 if fields[i][:2] == 'CR' else  1)\n",
    "        plot(metrics.grp,  y, yerr=yerr)\n",
    "        plt.ylabel(fields[i])\n",
    "        plt.xlabel('grp')\n",
    "\n",
    "    plt.show()"
   ]
  },
  {
   "cell_type": "code",
   "execution_count": 52,
   "id": "597311c7",
   "metadata": {
    "scrolled": false
   },
   "outputs": [
    {
     "data": {
      "image/png": "[encoded data removed]",
      "text/plain": [
       "<Figure size 1296x720 with 6 Axes>"
      ]
     },
     "metadata": {
      "needs_background": "light"
     },
     "output_type": "display_data"
    }
   ],
   "source": [
    "build_errorbar(main_properties, intervals)"
   ]
  },
  {
   "cell_type": "code",
   "execution_count": null,
   "id": "21f88677",
   "metadata": {},
   "outputs": [],
   "source": []
  }
 ],
 "metadata": {
  "kernelspec": {
   "display_name": "Python 3 (ipykernel)",
   "language": "python",
   "name": "python3"
  },
  "language_info": {
   "codemirror_mode": {
    "name": "ipython",
    "version": 3
   },
   "file_extension": ".py",
   "mimetype": "text/x-python",
   "name": "python",
   "nbconvert_exporter": "python",
   "pygments_lexer": "ipython3",
   "version": "3.10.4"
  }
 },
 "nbformat": 4,
 "nbformat_minor": 5
}
